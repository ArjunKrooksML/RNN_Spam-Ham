{
 "cells": [
  {
   "cell_type": "code",
   "execution_count": 26,
   "metadata": {},
   "outputs": [
    {
     "data": {
      "text/html": [
       "<div>\n",
       "<style scoped>\n",
       "    .dataframe tbody tr th:only-of-type {\n",
       "        vertical-align: middle;\n",
       "    }\n",
       "\n",
       "    .dataframe tbody tr th {\n",
       "        vertical-align: top;\n",
       "    }\n",
       "\n",
       "    .dataframe thead th {\n",
       "        text-align: right;\n",
       "    }\n",
       "</style>\n",
       "<table border=\"1\" class=\"dataframe\">\n",
       "  <thead>\n",
       "    <tr style=\"text-align: right;\">\n",
       "      <th></th>\n",
       "      <th>Category</th>\n",
       "      <th>Message</th>\n",
       "      <th>class</th>\n",
       "    </tr>\n",
       "  </thead>\n",
       "  <tbody>\n",
       "    <tr>\n",
       "      <th>0</th>\n",
       "      <td>ham</td>\n",
       "      <td>Go until jurong point, crazy.. Available only ...</td>\n",
       "      <td>0</td>\n",
       "    </tr>\n",
       "    <tr>\n",
       "      <th>1</th>\n",
       "      <td>ham</td>\n",
       "      <td>Ok lar... Joking wif u oni...</td>\n",
       "      <td>0</td>\n",
       "    </tr>\n",
       "    <tr>\n",
       "      <th>2</th>\n",
       "      <td>spam</td>\n",
       "      <td>Free entry in 2 a wkly comp to win FA Cup fina...</td>\n",
       "      <td>1</td>\n",
       "    </tr>\n",
       "    <tr>\n",
       "      <th>3</th>\n",
       "      <td>ham</td>\n",
       "      <td>U dun say so early hor... U c already then say...</td>\n",
       "      <td>0</td>\n",
       "    </tr>\n",
       "    <tr>\n",
       "      <th>4</th>\n",
       "      <td>ham</td>\n",
       "      <td>Nah I don't think he goes to usf, he lives aro...</td>\n",
       "      <td>0</td>\n",
       "    </tr>\n",
       "    <tr>\n",
       "      <th>...</th>\n",
       "      <td>...</td>\n",
       "      <td>...</td>\n",
       "      <td>...</td>\n",
       "    </tr>\n",
       "    <tr>\n",
       "      <th>5567</th>\n",
       "      <td>spam</td>\n",
       "      <td>This is the 2nd time we have tried 2 contact u...</td>\n",
       "      <td>1</td>\n",
       "    </tr>\n",
       "    <tr>\n",
       "      <th>5568</th>\n",
       "      <td>ham</td>\n",
       "      <td>Will ü b going to esplanade fr home?</td>\n",
       "      <td>0</td>\n",
       "    </tr>\n",
       "    <tr>\n",
       "      <th>5569</th>\n",
       "      <td>ham</td>\n",
       "      <td>Pity, * was in mood for that. So...any other s...</td>\n",
       "      <td>0</td>\n",
       "    </tr>\n",
       "    <tr>\n",
       "      <th>5570</th>\n",
       "      <td>ham</td>\n",
       "      <td>The guy did some bitching but I acted like i'd...</td>\n",
       "      <td>0</td>\n",
       "    </tr>\n",
       "    <tr>\n",
       "      <th>5571</th>\n",
       "      <td>ham</td>\n",
       "      <td>Rofl. Its true to its name</td>\n",
       "      <td>0</td>\n",
       "    </tr>\n",
       "  </tbody>\n",
       "</table>\n",
       "<p>5572 rows × 3 columns</p>\n",
       "</div>"
      ],
      "text/plain": [
       "     Category                                            Message  class\n",
       "0         ham  Go until jurong point, crazy.. Available only ...      0\n",
       "1         ham                      Ok lar... Joking wif u oni...      0\n",
       "2        spam  Free entry in 2 a wkly comp to win FA Cup fina...      1\n",
       "3         ham  U dun say so early hor... U c already then say...      0\n",
       "4         ham  Nah I don't think he goes to usf, he lives aro...      0\n",
       "...       ...                                                ...    ...\n",
       "5567     spam  This is the 2nd time we have tried 2 contact u...      1\n",
       "5568      ham               Will ü b going to esplanade fr home?      0\n",
       "5569      ham  Pity, * was in mood for that. So...any other s...      0\n",
       "5570      ham  The guy did some bitching but I acted like i'd...      0\n",
       "5571      ham                         Rofl. Its true to its name      0\n",
       "\n",
       "[5572 rows x 3 columns]"
      ]
     },
     "execution_count": 26,
     "metadata": {},
     "output_type": "execute_result"
    }
   ],
   "source": [
    "import pandas as pd\n",
    "import tensorflow as tf\n",
    "import numpy as np\n",
    "from sklearn.feature_extraction.text import CountVectorizer\n",
    "from keras.preprocessing.text import Tokenizer\n",
    "from keras.preprocessing.sequence import pad_sequences\n",
    "from keras.models import Sequential\n",
    "from keras.layers import Dense, LSTM, Embedding\n",
    "from sklearn.model_selection import train_test_split\n",
    "from keras.preprocessing import sequence\n",
    "\n",
    "df1 = pd.read_csv('spam.csv')\n",
    "df1['class'] = df1['Category'].map({'spam': 1, 'ham': 0})\n",
    "y = df1['class']\n",
    "X = df1['Message']\n",
    "\n",
    "df1\n"
   ]
  },
  {
   "cell_type": "code",
   "execution_count": 27,
   "metadata": {},
   "outputs": [],
   "source": [
    "\n",
    "X_train, X_test, y_train, y_test = train_test_split(X, y, random_state=42, test_size=0.2)\n"
   ]
  },
  {
   "cell_type": "code",
   "execution_count": 28,
   "metadata": {},
   "outputs": [],
   "source": [
    "tk = Tokenizer()\n",
    "tk.fit_on_texts(X_train)\n",
    "word_dict = tk.index_word\n",
    "X_train_seq = tk.texts_to_sequences(X_train)\n",
    "X_test_seq = tk.texts_to_sequences(X_test)\n",
    "\n",
    "maxlen = 80\n",
    "X_train_pad = sequence.pad_sequences(X_train_seq, maxlen=maxlen)\n",
    "X_test_pad = sequence.pad_sequences(X_test_seq, maxlen=maxlen)"
   ]
  },
  {
   "cell_type": "code",
   "execution_count": 29,
   "metadata": {},
   "outputs": [
    {
     "name": "stdout",
     "output_type": "stream",
     "text": [
      "<PAD> <PAD> <PAD> <PAD> <PAD> <PAD> <PAD> <PAD> <PAD> <PAD> <PAD> <PAD> <PAD> <PAD> <PAD> <PAD> <PAD> <PAD> <PAD> <PAD> <PAD> <PAD> <PAD> <PAD> <PAD> <PAD> <PAD> <PAD> <PAD> <PAD> <PAD> <PAD> <PAD> <PAD> <PAD> <PAD> <PAD> <PAD> <PAD> <PAD> <PAD> <PAD> <PAD> <PAD> <PAD> <PAD> <PAD> <PAD> <PAD> <PAD> <PAD> <PAD> <PAD> <PAD> <PAD> <PAD> <PAD> <PAD> <PAD> reply <UNK> win £100 weekly where will the 2006 fifa world cup be held send stop <UNK> 87239 <UNK> end service "
     ]
    }
   ],
   "source": [
    "\n",
    "word_dict[0] = '<PAD>'\n",
    "word_dict[1] = '<START>'\n",
    "word_dict[2] = '<UNK>'\n",
    "for el in X_train_pad[0]:\n",
    "    print(word_dict[el], end=' ')"
   ]
  },
  {
   "cell_type": "code",
   "execution_count": 31,
   "metadata": {},
   "outputs": [
    {
     "name": "stdout",
     "output_type": "stream",
     "text": [
      "Model: \"sequential_3\"\n",
      "_________________________________________________________________\n",
      " Layer (type)                Output Shape              Param #   \n",
      "=================================================================\n",
      " embedding_3 (Embedding)     (None, None, 8)           63632     \n",
      "                                                                 \n",
      " lstm_3 (LSTM)               (None, 16)                1600      \n",
      "                                                                 \n",
      " dense_3 (Dense)             (None, 1)                 17        \n",
      "                                                                 \n",
      "=================================================================\n",
      "Total params: 65249 (254.88 KB)\n",
      "Trainable params: 65249 (254.88 KB)\n",
      "Non-trainable params: 0 (0.00 Byte)\n",
      "_________________________________________________________________\n"
     ]
    }
   ],
   "source": [
    "RNNSpam.summary()\n"
   ]
  },
  {
   "cell_type": "code",
   "execution_count": 32,
   "metadata": {},
   "outputs": [],
   "source": [
    "RNNSpam.compile(loss='binary_crossentropy', optimizer='adam', metrics=['accuracy'])"
   ]
  },
  {
   "cell_type": "code",
   "execution_count": 33,
   "metadata": {},
   "outputs": [
    {
     "name": "stdout",
     "output_type": "stream",
     "text": [
      "Epoch 1/10\n"
     ]
    },
    {
     "name": "stdout",
     "output_type": "stream",
     "text": [
      "70/70 [==============================] - 4s 29ms/step - loss: 0.4606 - accuracy: 0.8640 - val_loss: 0.3301 - val_accuracy: 0.8664\n",
      "Epoch 2/10\n",
      "70/70 [==============================] - 2s 26ms/step - loss: 0.2080 - accuracy: 0.9186 - val_loss: 0.1396 - val_accuracy: 0.9767\n",
      "Epoch 3/10\n",
      "70/70 [==============================] - 2s 26ms/step - loss: 0.1063 - accuracy: 0.9785 - val_loss: 0.0942 - val_accuracy: 0.9830\n",
      "Epoch 4/10\n",
      "70/70 [==============================] - 2s 27ms/step - loss: 0.0704 - accuracy: 0.9881 - val_loss: 0.0766 - val_accuracy: 0.9848\n",
      "Epoch 5/10\n",
      "70/70 [==============================] - 2s 30ms/step - loss: 0.0467 - accuracy: 0.9912 - val_loss: 0.0636 - val_accuracy: 0.9865\n",
      "Epoch 6/10\n",
      "70/70 [==============================] - 2s 30ms/step - loss: 0.0333 - accuracy: 0.9946 - val_loss: 0.0595 - val_accuracy: 0.9883\n",
      "Epoch 7/10\n",
      "70/70 [==============================] - 2s 28ms/step - loss: 0.0254 - accuracy: 0.9960 - val_loss: 0.0520 - val_accuracy: 0.9883\n",
      "Epoch 8/10\n",
      "70/70 [==============================] - 2s 28ms/step - loss: 0.0205 - accuracy: 0.9966 - val_loss: 0.0536 - val_accuracy: 0.9883\n",
      "Epoch 9/10\n",
      "70/70 [==============================] - 2s 30ms/step - loss: 0.0141 - accuracy: 0.9980 - val_loss: 0.0536 - val_accuracy: 0.9883\n",
      "Epoch 10/10\n",
      "70/70 [==============================] - 2s 29ms/step - loss: 0.0111 - accuracy: 0.9987 - val_loss: 0.0472 - val_accuracy: 0.9901\n"
     ]
    },
    {
     "data": {
      "text/plain": [
       "<keras.src.callbacks.History at 0x21f1b9f6650>"
      ]
     },
     "execution_count": 33,
     "metadata": {},
     "output_type": "execute_result"
    }
   ],
   "source": [
    "RNNSpam.fit(X_train_pad, y_train,batch_size=64,epochs=10,validation_data=(X_test_pad, y_test))"
   ]
  },
  {
   "cell_type": "code",
   "execution_count": 34,
   "metadata": {},
   "outputs": [
    {
     "name": "stdout",
     "output_type": "stream",
     "text": [
      "1/1 [==============================] - 1s 524ms/step\n"
     ]
    },
    {
     "data": {
      "text/plain": [
       "array([[0.00178551]], dtype=float32)"
      ]
     },
     "execution_count": 34,
     "metadata": {},
     "output_type": "execute_result"
    }
   ],
   "source": [
    "#Not Spam \n",
    "test = ['Happy Birthday Arjun, hope you have a great day']\n",
    "msgsq = tk.texts_to_sequences(test)\n",
    "msgpadded = pad_sequences(msgsq, maxlen=30)\n",
    "tk.index_word\n",
    "RNNSpam.predict(msgpadded)"
   ]
  },
  {
   "cell_type": "code",
   "execution_count": 35,
   "metadata": {},
   "outputs": [
    {
     "name": "stdout",
     "output_type": "stream",
     "text": [
      "1/1 [==============================] - 0s 162ms/step\n"
     ]
    },
    {
     "data": {
      "text/plain": [
       "array([[0.9767136]], dtype=float32)"
      ]
     },
     "execution_count": 35,
     "metadata": {},
     "output_type": "execute_result"
    }
   ],
   "source": [
    "#Spam\n",
    "test1 = ['This is the 2nd time we have tried 2 contact u. U have won the Â£750 Pound prize. 2 claim is easy, call 087187272008 NOW1! Only 10p per minute. BT-national-rate.']\n",
    "msgsq1 = tk.texts_to_sequences(test1)\n",
    "msgpadded1 = pad_sequences(msgsq1, maxlen=100)\n",
    "tk.index_word\n",
    "RNNSpam.predict(msgpadded1)"
   ]
  }
 ],
 "metadata": {
  "kernelspec": {
   "display_name": "Python 3",
   "language": "python",
   "name": "python3"
  },
  "language_info": {
   "codemirror_mode": {
    "name": "ipython",
    "version": 3
   },
   "file_extension": ".py",
   "mimetype": "text/x-python",
   "name": "python",
   "nbconvert_exporter": "python",
   "pygments_lexer": "ipython3",
   "version": "3.11.4"
  }
 },
 "nbformat": 4,
 "nbformat_minor": 2
}
